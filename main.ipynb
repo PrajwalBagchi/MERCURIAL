{
 "cells": [
  {
   "cell_type": "code",
   "execution_count": null,
   "metadata": {},
   "outputs": [
    {
     "data": {
      "text/plain": [
       "<module 'mercurial' from 'd:\\\\work\\\\personel\\\\mercurial\\\\mercurial.py'>"
      ]
     },
     "execution_count": 9,
     "metadata": {},
     "output_type": "execute_result"
    }
   ],
   "source": [
    "from flask import Flask, jsonify, request, url_for, render_template\n",
    "from flask_cors import CORS\n",
    "import mercurial\n",
    "import importlib\n",
    "importlib.reload(mercurial)"
   ]
  },
  {
   "cell_type": "code",
   "execution_count": 11,
   "metadata": {},
   "outputs": [
    {
     "name": "stdout",
     "output_type": "stream",
     "text": [
      " * Serving Flask app '__main__'\n",
      " * Debug mode: off\n"
     ]
    },
    {
     "name": "stderr",
     "output_type": "stream",
     "text": [
      "WARNING: This is a development server. Do not use it in a production deployment. Use a production WSGI server instead.\n",
      " * Running on http://127.0.0.1:5000\n",
      "Press CTRL+C to quit\n"
     ]
    }
   ],
   "source": [
    "app = Flask(__name__) \n",
    "CORS(app) \n",
    "\n",
    "@app.route(\"/\")\n",
    "def index():\n",
    "    return render_template(\"index.html\")\n",
    "\n",
    "\n",
    "likedlist = []\n",
    "\n",
    "def recopass(listx):\n",
    "    if(len(listx) > 3):\n",
    "        listx = listx[-3::]\n",
    "    else:\n",
    "        listx = listx\n",
    "    \n",
    "    return listx\n",
    "\n",
    "\n",
    "@app.route(\"/data\", methods=[\"GET\", \"POST\"]) \n",
    "def dataex():\n",
    "    \n",
    "    if request.method == \"POST\": \n",
    "        data = request.get_json()\n",
    "        if(data[\"reco\"] == \"1\"):\n",
    "            pass\n",
    "        else:\n",
    "            if(len(likedlist) == 0 or likedlist[0] == \"\"):\n",
    "                pass\n",
    "            else:\n",
    "                likedlist.pop()\n",
    "        #print(data, flush = True)\n",
    "        return {\"message\": \"Success!\"}\n",
    "    \n",
    "    elif request.method == \"GET\":\n",
    "        cur_track = mercurial.get_track()\n",
    "        print(likedlist, flush = True)\n",
    "        likedlist.append(cur_track[\"track_name\"])\n",
    "        return jsonify(cur_track)\n",
    "\n",
    "@app.route(\"/recochannel\", methods=[\"GET\"]) \n",
    "\n",
    "def recochannel(): \n",
    "    if request.method == \"GET\": \n",
    "        return jsonify(mercurial.recommend(likedlist))\n",
    "\n",
    "    \n",
    "if __name__ == '__main__':\n",
    "    app.run()"
   ]
  }
 ],
 "metadata": {
  "kernelspec": {
   "display_name": "Python 3",
   "language": "python",
   "name": "python3"
  },
  "language_info": {
   "codemirror_mode": {
    "name": "ipython",
    "version": 3
   },
   "file_extension": ".py",
   "mimetype": "text/x-python",
   "name": "python",
   "nbconvert_exporter": "python",
   "pygments_lexer": "ipython3",
   "version": "3.11.0"
  },
  "orig_nbformat": 4
 },
 "nbformat": 4,
 "nbformat_minor": 2
}
